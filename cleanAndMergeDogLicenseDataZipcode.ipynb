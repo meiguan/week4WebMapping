{
 "cells": [
  {
   "cell_type": "code",
   "execution_count": 15,
   "metadata": {},
   "outputs": [],
   "source": [
    "import geopandas as gpd\n",
    "import pandas as pd\n",
    "import urllib.request\n",
    "\n",
    "import matplotlib as pl\n",
    "%matplotlib inline"
   ]
  },
  {
   "cell_type": "code",
   "execution_count": 3,
   "metadata": {},
   "outputs": [
    {
     "name": "stdout",
     "output_type": "stream",
     "text": [
      "<class 'geopandas.geodataframe.GeoDataFrame'>\n"
     ]
    }
   ],
   "source": [
    "fname = \"./data/nyc_zip_code_tabulation_areas_polygons.geojson\"\n",
    "\n",
    "df = gpd.read_file(fname)\n",
    "\n",
    "print(type(df))"
   ]
  },
  {
   "cell_type": "code",
   "execution_count": 5,
   "metadata": {},
   "outputs": [
    {
     "data": {
      "text/html": [
       "<div>\n",
       "<style scoped>\n",
       "    .dataframe tbody tr th:only-of-type {\n",
       "        vertical-align: middle;\n",
       "    }\n",
       "\n",
       "    .dataframe tbody tr th {\n",
       "        vertical-align: top;\n",
       "    }\n",
       "\n",
       "    .dataframe thead th {\n",
       "        text-align: right;\n",
       "    }\n",
       "</style>\n",
       "<table border=\"1\" class=\"dataframe\">\n",
       "  <thead>\n",
       "    <tr style=\"text-align: right;\">\n",
       "      <th></th>\n",
       "      <th>cartodb_id</th>\n",
       "      <th>objectid</th>\n",
       "      <th>postalcode</th>\n",
       "      <th>po_name</th>\n",
       "      <th>state</th>\n",
       "      <th>borough</th>\n",
       "      <th>st_fips</th>\n",
       "      <th>cty_fips</th>\n",
       "      <th>bldgpostalcode</th>\n",
       "      <th>shape_leng</th>\n",
       "      <th>shape_area</th>\n",
       "      <th>id</th>\n",
       "      <th>geometry</th>\n",
       "    </tr>\n",
       "  </thead>\n",
       "  <tbody>\n",
       "    <tr>\n",
       "      <td>0</td>\n",
       "      <td>173</td>\n",
       "      <td>173</td>\n",
       "      <td>11693</td>\n",
       "      <td>Far Rockaway</td>\n",
       "      <td>NY</td>\n",
       "      <td>Brooklyn</td>\n",
       "      <td>36</td>\n",
       "      <td>047</td>\n",
       "      <td>0</td>\n",
       "      <td>9479.917277</td>\n",
       "      <td>3.497516e+06</td>\n",
       "      <td>http://nyc.pediacities.com/Resource/PostalCode...</td>\n",
       "      <td>MULTIPOLYGON (((-73.84076 40.62536, -73.84306 ...</td>\n",
       "    </tr>\n",
       "    <tr>\n",
       "      <td>1</td>\n",
       "      <td>48</td>\n",
       "      <td>48</td>\n",
       "      <td>10463</td>\n",
       "      <td>Bronx</td>\n",
       "      <td>NY</td>\n",
       "      <td>Manhattan</td>\n",
       "      <td>36</td>\n",
       "      <td>061</td>\n",
       "      <td>0</td>\n",
       "      <td>7791.517127</td>\n",
       "      <td>3.119702e+06</td>\n",
       "      <td>http://nyc.pediacities.com/Resource/PostalCode...</td>\n",
       "      <td>MULTIPOLYGON (((-73.91544 40.87559, -73.91509 ...</td>\n",
       "    </tr>\n",
       "    <tr>\n",
       "      <td>2</td>\n",
       "      <td>51</td>\n",
       "      <td>51</td>\n",
       "      <td>10033</td>\n",
       "      <td>New York</td>\n",
       "      <td>NY</td>\n",
       "      <td>Manhattan</td>\n",
       "      <td>36</td>\n",
       "      <td>061</td>\n",
       "      <td>0</td>\n",
       "      <td>29415.607123</td>\n",
       "      <td>1.615605e+07</td>\n",
       "      <td>http://nyc.pediacities.com/Resource/PostalCode...</td>\n",
       "      <td>MULTIPOLYGON (((-73.93213 40.86945, -73.93128 ...</td>\n",
       "    </tr>\n",
       "    <tr>\n",
       "      <td>3</td>\n",
       "      <td>120</td>\n",
       "      <td>120</td>\n",
       "      <td>11367</td>\n",
       "      <td>Flushing</td>\n",
       "      <td>NY</td>\n",
       "      <td>Queens</td>\n",
       "      <td>36</td>\n",
       "      <td>081</td>\n",
       "      <td>0</td>\n",
       "      <td>33506.126605</td>\n",
       "      <td>7.281015e+07</td>\n",
       "      <td>http://nyc.pediacities.com/Resource/PostalCode...</td>\n",
       "      <td>MULTIPOLYGON (((-73.83761 40.74324, -73.83516 ...</td>\n",
       "    </tr>\n",
       "    <tr>\n",
       "      <td>4</td>\n",
       "      <td>64</td>\n",
       "      <td>64</td>\n",
       "      <td>10472</td>\n",
       "      <td>Bronx</td>\n",
       "      <td>NY</td>\n",
       "      <td>Bronx</td>\n",
       "      <td>36</td>\n",
       "      <td>005</td>\n",
       "      <td>0</td>\n",
       "      <td>27006.042411</td>\n",
       "      <td>3.096325e+07</td>\n",
       "      <td>http://nyc.pediacities.com/Resource/PostalCode...</td>\n",
       "      <td>MULTIPOLYGON (((-73.88011 40.83723, -73.87747 ...</td>\n",
       "    </tr>\n",
       "  </tbody>\n",
       "</table>\n",
       "</div>"
      ],
      "text/plain": [
       "   cartodb_id  objectid postalcode       po_name state    borough st_fips  \\\n",
       "0         173       173      11693  Far Rockaway    NY   Brooklyn      36   \n",
       "1          48        48      10463         Bronx    NY  Manhattan      36   \n",
       "2          51        51      10033      New York    NY  Manhattan      36   \n",
       "3         120       120      11367      Flushing    NY     Queens      36   \n",
       "4          64        64      10472         Bronx    NY      Bronx      36   \n",
       "\n",
       "  cty_fips  bldgpostalcode    shape_leng    shape_area  \\\n",
       "0      047               0   9479.917277  3.497516e+06   \n",
       "1      061               0   7791.517127  3.119702e+06   \n",
       "2      061               0  29415.607123  1.615605e+07   \n",
       "3      081               0  33506.126605  7.281015e+07   \n",
       "4      005               0  27006.042411  3.096325e+07   \n",
       "\n",
       "                                                  id  \\\n",
       "0  http://nyc.pediacities.com/Resource/PostalCode...   \n",
       "1  http://nyc.pediacities.com/Resource/PostalCode...   \n",
       "2  http://nyc.pediacities.com/Resource/PostalCode...   \n",
       "3  http://nyc.pediacities.com/Resource/PostalCode...   \n",
       "4  http://nyc.pediacities.com/Resource/PostalCode...   \n",
       "\n",
       "                                            geometry  \n",
       "0  MULTIPOLYGON (((-73.84076 40.62536, -73.84306 ...  \n",
       "1  MULTIPOLYGON (((-73.91544 40.87559, -73.91509 ...  \n",
       "2  MULTIPOLYGON (((-73.93213 40.86945, -73.93128 ...  \n",
       "3  MULTIPOLYGON (((-73.83761 40.74324, -73.83516 ...  \n",
       "4  MULTIPOLYGON (((-73.88011 40.83723, -73.87747 ...  "
      ]
     },
     "execution_count": 5,
     "metadata": {},
     "output_type": "execute_result"
    }
   ],
   "source": [
    "df.head()"
   ]
  },
  {
   "cell_type": "code",
   "execution_count": 10,
   "metadata": {},
   "outputs": [
    {
     "data": {
      "text/plain": [
       "('./data/nycDogLicenses.csv', <http.client.HTTPMessage at 0x7fe50ee16290>)"
      ]
     },
     "execution_count": 10,
     "metadata": {},
     "output_type": "execute_result"
    }
   ],
   "source": [
    "url = 'https://data.cityofnewyork.us/api/views/nu7n-tubp/rows.csv?accessType=DOWNLOAD'\n",
    "urllib.request.urlretrieve(url, './data/nycDogLicenses.csv')"
   ]
  },
  {
   "cell_type": "code",
   "execution_count": 13,
   "metadata": {},
   "outputs": [
    {
     "data": {
      "text/html": [
       "<div>\n",
       "<style scoped>\n",
       "    .dataframe tbody tr th:only-of-type {\n",
       "        vertical-align: middle;\n",
       "    }\n",
       "\n",
       "    .dataframe tbody tr th {\n",
       "        vertical-align: top;\n",
       "    }\n",
       "\n",
       "    .dataframe thead th {\n",
       "        text-align: right;\n",
       "    }\n",
       "</style>\n",
       "<table border=\"1\" class=\"dataframe\">\n",
       "  <thead>\n",
       "    <tr style=\"text-align: right;\">\n",
       "      <th></th>\n",
       "      <th>RowNumber</th>\n",
       "      <th>AnimalName</th>\n",
       "      <th>AnimalGender</th>\n",
       "      <th>AnimalBirthMonth</th>\n",
       "      <th>BreedName</th>\n",
       "      <th>Borough</th>\n",
       "      <th>ZipCode</th>\n",
       "      <th>LicenseIssuedDate</th>\n",
       "      <th>LicenseExpiredDate</th>\n",
       "      <th>Extract Year</th>\n",
       "    </tr>\n",
       "  </thead>\n",
       "  <tbody>\n",
       "    <tr>\n",
       "      <td>0</td>\n",
       "      <td>1</td>\n",
       "      <td>PAIGE</td>\n",
       "      <td>F</td>\n",
       "      <td>2014</td>\n",
       "      <td>American Pit Bull Mix / Pit Bull Mix</td>\n",
       "      <td>NaN</td>\n",
       "      <td>10035</td>\n",
       "      <td>09/12/2014</td>\n",
       "      <td>09/12/2017</td>\n",
       "      <td>2016</td>\n",
       "    </tr>\n",
       "    <tr>\n",
       "      <td>1</td>\n",
       "      <td>2</td>\n",
       "      <td>YOGI</td>\n",
       "      <td>M</td>\n",
       "      <td>2010</td>\n",
       "      <td>Boxer</td>\n",
       "      <td>NaN</td>\n",
       "      <td>10465</td>\n",
       "      <td>09/12/2014</td>\n",
       "      <td>10/02/2017</td>\n",
       "      <td>2016</td>\n",
       "    </tr>\n",
       "    <tr>\n",
       "      <td>2</td>\n",
       "      <td>3</td>\n",
       "      <td>ALI</td>\n",
       "      <td>M</td>\n",
       "      <td>2014</td>\n",
       "      <td>Basenji</td>\n",
       "      <td>NaN</td>\n",
       "      <td>10013</td>\n",
       "      <td>09/12/2014</td>\n",
       "      <td>09/12/2019</td>\n",
       "      <td>2016</td>\n",
       "    </tr>\n",
       "    <tr>\n",
       "      <td>3</td>\n",
       "      <td>4</td>\n",
       "      <td>QUEEN</td>\n",
       "      <td>F</td>\n",
       "      <td>2013</td>\n",
       "      <td>Akita Crossbreed</td>\n",
       "      <td>NaN</td>\n",
       "      <td>10013</td>\n",
       "      <td>09/12/2014</td>\n",
       "      <td>09/12/2017</td>\n",
       "      <td>2016</td>\n",
       "    </tr>\n",
       "    <tr>\n",
       "      <td>4</td>\n",
       "      <td>5</td>\n",
       "      <td>LOLA</td>\n",
       "      <td>F</td>\n",
       "      <td>2009</td>\n",
       "      <td>Maltese</td>\n",
       "      <td>NaN</td>\n",
       "      <td>10028</td>\n",
       "      <td>09/12/2014</td>\n",
       "      <td>10/09/2017</td>\n",
       "      <td>2016</td>\n",
       "    </tr>\n",
       "  </tbody>\n",
       "</table>\n",
       "</div>"
      ],
      "text/plain": [
       "   RowNumber AnimalName AnimalGender  AnimalBirthMonth  \\\n",
       "0          1      PAIGE            F              2014   \n",
       "1          2       YOGI            M              2010   \n",
       "2          3        ALI            M              2014   \n",
       "3          4      QUEEN            F              2013   \n",
       "4          5       LOLA            F              2009   \n",
       "\n",
       "                              BreedName  Borough  ZipCode LicenseIssuedDate  \\\n",
       "0  American Pit Bull Mix / Pit Bull Mix      NaN    10035        09/12/2014   \n",
       "1                                 Boxer      NaN    10465        09/12/2014   \n",
       "2                               Basenji      NaN    10013        09/12/2014   \n",
       "3                      Akita Crossbreed      NaN    10013        09/12/2014   \n",
       "4                               Maltese      NaN    10028        09/12/2014   \n",
       "\n",
       "  LicenseExpiredDate  Extract Year  \n",
       "0         09/12/2017          2016  \n",
       "1         10/02/2017          2016  \n",
       "2         09/12/2019          2016  \n",
       "3         09/12/2017          2016  \n",
       "4         10/09/2017          2016  "
      ]
     },
     "execution_count": 13,
     "metadata": {},
     "output_type": "execute_result"
    }
   ],
   "source": [
    "dogs = pd.read_csv('./data/nycDogLicenses.csv')\n",
    "dogs.head()"
   ]
  },
  {
   "cell_type": "code",
   "execution_count": 25,
   "metadata": {},
   "outputs": [
    {
     "data": {
      "text/plain": [
       "2016    36151\n",
       "2015    35316\n",
       "2014    31119\n",
       "2013    27275\n",
       "2012    25098\n",
       "Name: AnimalBirthMonth, dtype: int64"
      ]
     },
     "execution_count": 25,
     "metadata": {},
     "output_type": "execute_result"
    }
   ],
   "source": [
    "dogs.AnimalBirthMonth.value_counts().head()"
   ]
  },
  {
   "cell_type": "code",
   "execution_count": 26,
   "metadata": {},
   "outputs": [
    {
     "data": {
      "text/plain": [
       "2018"
      ]
     },
     "execution_count": 26,
     "metadata": {},
     "output_type": "execute_result"
    }
   ],
   "source": [
    "dogs.AnimalBirthMonth.max()"
   ]
  },
  {
   "cell_type": "code",
   "execution_count": 35,
   "metadata": {},
   "outputs": [
    {
     "data": {
      "text/plain": [
       "array([10035, 10465, 10013, 10028, 10025, 11215, 11201, 10022, 10003,\n",
       "       11220, 10040, 10463, 11238, 10002, 10308, 10011, 11209, 11208,\n",
       "       11218, 11232, 10312, 10023, 11231, 10461, 11224, 10471, 11236,\n",
       "       11229, 11361, 10021, 10309, 10024, 10038, 10467, 33185, 10012,\n",
       "       10473, 11104, 10034, 11379, 10029, 10451, 11374, 11106, 10016,\n",
       "       11435, 10065, 10280, 10031, 10128, 10475, 11230, 10460, 11101,\n",
       "       11211, 11375, 11228, 10036, 10462, 10458, 10019, 10454, 11373,\n",
       "       11217, 11237, 11214, 11385, 11102, 10027, 10301, 11222, 11364,\n",
       "       11234, 11205, 11377, 10314, 10306, 10014, 11206, 10026, 10032,\n",
       "       11365, 11694, 11221, 11372, 10469, 11358, 11414, 10009, 10033,\n",
       "       11429, 11378, 11105, 10456, 11249, 11426, 11225, 10282, 10459,\n",
       "       10075, 11416, 11216, 11355, 10304, 11235, 10001, 10007, 10039,\n",
       "       11415, 10017, 10452, 11204, 11434, 11418, 10470, 10037, 11233,\n",
       "       11368, 11219, 11354, 11223, 11207, 11239, 10303, 11226, 11691,\n",
       "       11423, 11419, 10455, 11692, 10018, 10010, 10310, 11109,  7030,\n",
       "       10307, 10005, 11103, 11360, 10305, 11697, 11212, 11369, 11370,\n",
       "       10472, 10468, 11357, 10004, 10466, 10302, 11004, 11367, 11693,\n",
       "       11210, 10464, 11420, 11362, 11432, 28677, 10457, 10044, 11366,\n",
       "       10125, 10453, 11428, 11412, 11213, 11427, 11040, 11421, 11417,\n",
       "       10030, 11356, 10069, 11203, 11413, 11550, 11422, 11001, 12051,\n",
       "       11436, 11469, 11433, 10006, 53494, 11003, 11746, 10474, 11590,\n",
       "       11933, 10101,   121, 12143, 11363,  8527,  7430, 10262, 11542,\n",
       "       10708, 11386, 10927, 10247, 10119, 11411, 11545, 10920, 10107,\n",
       "       10704, 11509, 11010, 10707, 11518, 10068, 11023, 10108,  8901,\n",
       "       32163, 10901, 10705, 10156, 11757, 22223, 11710, 10159, 11243,\n",
       "       10185, 10118, 10163, 14432, 11961, 11783, 11784, 10533, 11756,\n",
       "       11520, 10502, 90802, 10950, 10008, 48375, 11050, 11944,  8110,\n",
       "       11005, 91607, 11305, 10512, 11336, 14847, 14420,  7090, 10175,\n",
       "       10805, 12790,  7675, 12601, 10583, 11706, 10801, 10550, 11732,\n",
       "       11758, 11552,  7302, 11978, 18705, 11791, 11021, 14228, 10701,\n",
       "        7624, 12083, 10606, 10116, 90036,  9012, 77005, 11030, 10703,\n",
       "       10150, 11580, 94109, 10162, 98363, 11714, 11743, 10313,  7013,\n",
       "       11202, 11690, 10272, 11020, 12721, 10155, 31539, 11141, 84108,\n",
       "       11516, 10520, 20854, 94608, 11246, 11352, 33711, 10940, 10113,\n",
       "       12136, 10990, 10020, 11581, 11376, 10522,  7094,  7036, 12590,\n",
       "       11425, 10153,  7728, 12564, 10151, 11431, 11793, 11096, 14001,\n",
       "       11553, 28411, 11713, 98058, 11755, 11301, 10530,  1175, 11548,\n",
       "       11716, 11630, 33467, 11726, 13642, 14216, 10577, 60510, 98072,\n",
       "       10570, 10548, 97209, 78751, 10562, 11570, 14450, 10962, 10274,\n",
       "       68164, 12722, 10129, 37209, 11753, 10566, 11971, 12180, 11579,\n",
       "       10710, 10276, 11024, 10598, 10952, 11134, 11609, 11977, 33401,\n",
       "       32819,  7748, 33805, 10362, 91343, 10450,  8830, 11561, 12533,\n",
       "       11963, 11772, 11721, 10552, 10970, 11731, 72764, 94117, 11242,\n",
       "       10603, 10605, 10968, 11569,  6403, 11338, 34746, 11563, 13045,\n",
       "       30305, 10268, 11946, 10803,  7410,  7307, 90403, 10111, 11704,\n",
       "       22314, 12202, 11967, 10591, 11347, 13027, 11803, 12538,  7304,\n",
       "        7650, 12775, 11695, 11735,  7010, 11717, 10918, 17046, 11920,\n",
       "       99202, 11016, 11725,  1135, 33456, 11575, 27707, 99508, 84014,\n",
       "       10514, 11741,  7601, 13369, 11631, 12550, 13637, 10523, 10543,\n",
       "       11566, 10048, 10954, 10015, 10930, 11359, 10549, 10123, 11554,\n",
       "        7733, 32617, 13501, 45822, 10977, 10506, 37129, 11508, 10580,\n",
       "       14207, 11309, 14220, 10573,  7306, 11572, 11701,  6518, 10275,\n",
       "       11094, 13202, 32043, 12401, 10941, 10956, 11576, 11763, 14850,\n",
       "       12553, 33139, 12866, 11937, 11727, 10511, 43210, 10176, 11025,\n",
       "       10120, 12303, 10045, 10169, 11344, 11026, 11565, 10569, 14221,\n",
       "       11965, 10604, 11510, 11797,  7093, 10980, 11968, 11313, 10315,\n",
       "        7977, 11722, 18702,  6615,  1305, 13068,  6473, 27857, 10165,\n",
       "       11868, 11790, 10528, 12701,  6901, 11351, 10244, 78749,  7606,\n",
       "        7087,  7002,  8009, 33428, 11950, 11780, 13032])"
      ]
     },
     "execution_count": 35,
     "metadata": {},
     "output_type": "execute_result"
    }
   ],
   "source": [
    "dogs.ZipCode.unique()"
   ]
  },
  {
   "cell_type": "code",
   "execution_count": 45,
   "metadata": {},
   "outputs": [],
   "source": [
    "dogsByZip = dogs[dogs.AnimalBirthMonth>=2012].groupby('ZipCode', as_index=False).count()[['ZipCode', 'RowNumber']]"
   ]
  },
  {
   "cell_type": "code",
   "execution_count": 48,
   "metadata": {},
   "outputs": [],
   "source": [
    "dogsByZip.rename(columns={\"ZipCode\":\"postalcode\", \"RowNumber\":\"dogcount\"}, inplace=True)"
   ]
  },
  {
   "cell_type": "code",
   "execution_count": 55,
   "metadata": {},
   "outputs": [],
   "source": [
    "dogsByZip['postalcode'] = dogsByZip['postalcode'].apply(lambda x: '{0:0>5}'.format(x))"
   ]
  },
  {
   "cell_type": "code",
   "execution_count": 59,
   "metadata": {},
   "outputs": [],
   "source": [
    "dogsByZip = df.merge(dogsByZip, on='postalcode')"
   ]
  },
  {
   "cell_type": "code",
   "execution_count": 61,
   "metadata": {},
   "outputs": [
    {
     "name": "stdout",
     "output_type": "stream",
     "text": [
      "<class 'geopandas.geodataframe.GeoDataFrame'>\n"
     ]
    }
   ],
   "source": [
    "print(type(dogsByZip))"
   ]
  },
  {
   "cell_type": "code",
   "execution_count": 66,
   "metadata": {},
   "outputs": [],
   "source": [
    "dogsByZip.drop(['id', 'bldgpostalcode', 'cty_fips', 'st_fips', 'cartodb_id', 'objectid'], axis=1, inplace=True)"
   ]
  },
  {
   "cell_type": "code",
   "execution_count": null,
   "metadata": {},
   "outputs": [],
   "source": [
    "dogsByZip."
   ]
  }
 ],
 "metadata": {
  "kernelspec": {
   "display_name": "Python 3",
   "language": "python",
   "name": "python3"
  },
  "language_info": {
   "codemirror_mode": {
    "name": "ipython",
    "version": 3
   },
   "file_extension": ".py",
   "mimetype": "text/x-python",
   "name": "python",
   "nbconvert_exporter": "python",
   "pygments_lexer": "ipython3",
   "version": "3.7.4"
  }
 },
 "nbformat": 4,
 "nbformat_minor": 2
}
